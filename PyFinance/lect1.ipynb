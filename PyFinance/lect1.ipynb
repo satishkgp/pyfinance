{
 "cells": [
  {
   "cell_type": "code",
   "execution_count": 27,
   "id": "3b8bd3a5",
   "metadata": {},
   "outputs": [],
   "source": [
    "import datetime as dt\n",
    "import pandas as pd\n",
    "import requests\n",
    "# if suppose nothing gets from url then also program will continue to run\n",
    "from requests.exceptions import ConnectionError\n",
    "from bs4 import BeautifulSoup"
   ]
  },
  {
   "cell_type": "code",
   "execution_count": 109,
   "id": "475e2811",
   "metadata": {},
   "outputs": [
    {
     "name": "stdout",
     "output_type": "stream",
     "text": [
      "['2023-02-18 11:13:30', '308.24', '+0.06', '(+0.02%)', '2,721,407', '362.00', '74.66', '-2.07', '(-2.70%)', '15,855,721', '101.47', '53.70', '0.00', '(0.00%)', '140,362,225', '44.08', '152.55', '-1.16', '(-0.75%)', '59,144,118', '169.39', '97.20', '-0.95', '(-0.97%)', '60,029,405', '135.75', '258.06', '-4.09', '(-1.56%)', '30,000,055', '285.51', '172.88', '+0.44', '(+0.26%)', '21,194,370', '212.48', '94.59', '-1.19', '(-1.24%)', '31,095,067', '123.80']\n"
     ]
    }
   ],
   "source": [
    "def webcontent_div(webcontent,classpath):\n",
    "    webcontent_div=webcontent.find_all('div',{'class':classpath})\n",
    "    try:\n",
    "        finstreamers=webcontent_div[0].find_all('fin-streamer')\n",
    "        texts=[finstreamer.get_text() for finstreamer in finstreamers]\n",
    "    except IndexError:\n",
    "        texts=[]\n",
    "    return texts\n",
    "\n",
    "def targetesttimate(webcontent,classpath):\n",
    "    targetesttimate=webcontent.find_all('div',{'class':classpath})\n",
    "    try:\n",
    "        tds=targetesttimate[0].find_all('tr')\n",
    "        texts=[td.get_text() for td in tds]\n",
    "    except IndexError:\n",
    "        texts=[]\n",
    "    return texts\n",
    "\n",
    "\n",
    "def realtimeprice(stockcode):\n",
    "    volume=[]\n",
    "    url='https://finance.yahoo.com/quote/'+stockcode+'?p='+stockcode+'&.tsrc=fin-srch'\n",
    "    try:\n",
    "        r=requests.get(url)\n",
    "        webcontent=BeautifulSoup(r.text,'lxml')\n",
    "        texts=webcontent_div(webcontent,\"D(ib) Mend(20px)\")\n",
    "        if texts!=[]:\n",
    "              price,change,changeper=texts[0],texts[1],texts[2]\n",
    "        else: \n",
    "            price,change,changeper=[],[],[]\n",
    "        \n",
    "#         *******Volume*******\n",
    "        texts=webcontent_div(webcontent,'D(ib) W(1/2) Bxz(bb) Pend(12px) Va(t) ie-7_D(i) smartphone_D(b) smartphone_W(100%) smartphone_Pend(0px) smartphone_BdY smartphone_Bdc($seperatorColor)')\n",
    "        if texts!=[]:\n",
    "            volume=texts[0]\n",
    "        else:\n",
    "            volume=''\n",
    "            \n",
    "#         //bearish and bullish\n",
    "#         pattern=webcontent_div(webcontent,'')\n",
    "#         try:\n",
    "#             latest_pattern=pattern[0]\n",
    "#         except IndexError:\n",
    "#             latest_pattern=[]\n",
    "            \n",
    "#         *********1yr target estimate*******\n",
    "        texts=targetesttimate(webcontent,'D(ib) W(1/2) Bxz(bb) Pstart(12px) Va(t) ie-7_D(i) ie-7_Pos(a) smartphone_D(b) smartphone_W(100%) smartphone_Pstart(0px) smartphone_BdB smartphone_Bdc($seperatorColor)')\n",
    "#         print(texts)\n",
    "        if texts!=[]:\n",
    "           one_year_target=texts[-1][13:]\n",
    "        else:\n",
    "            one_year_target=''\n",
    "    except ConnectionError:\n",
    "        price,change,changeper,volume,one_year_target=[],[],[],'',''\n",
    "    return price,change,changeper,volume,one_year_target\n",
    "\n",
    "Stock=['BRK-B','PYPL','TWTR','AAPL','AMZN','MSFT','META','GOOG']\n",
    "\n",
    "# print(realtimeprice('BRK-B'))\n",
    "     \n",
    "# ******Store values of different stocks*******\n",
    "info=[]\n",
    "col=[]\n",
    "timestamp=dt.datetime.now()-dt.timedelta(hours=13)\n",
    "timestamp=timestamp.strftime(\"%Y-%m-%d %H:%M:%S\")\n",
    "for stockcode in Stock:\n",
    "    price,change,changeper,volume,one_year_target=realtimeprice(stockcode)\n",
    "    info.append(price)\n",
    "    info.extend([change])\n",
    "    info.extend([changeper])\n",
    "    info.extend([volume])\n",
    "    info.extend([one_year_target])\n",
    "col=[timestamp]\n",
    "col.extend(info)\n",
    "df=pd.DataFrame(col)\n",
    "df=df.T\n",
    "df.to_csv(str(timestamp[0:11])+'stockdata.csv',mode=\"a\",header=True)\n",
    "print(col)\n",
    "    "
   ]
  },
  {
   "cell_type": "code",
   "execution_count": null,
   "id": "28d58dd7",
   "metadata": {},
   "outputs": [],
   "source": []
  },
  {
   "cell_type": "code",
   "execution_count": null,
   "id": "7a93371d",
   "metadata": {},
   "outputs": [],
   "source": []
  },
  {
   "cell_type": "code",
   "execution_count": null,
   "id": "5b0cd73e",
   "metadata": {},
   "outputs": [],
   "source": []
  },
  {
   "cell_type": "code",
   "execution_count": null,
   "id": "784ca225",
   "metadata": {},
   "outputs": [],
   "source": []
  },
  {
   "cell_type": "code",
   "execution_count": null,
   "id": "27729fdd",
   "metadata": {},
   "outputs": [],
   "source": []
  },
  {
   "cell_type": "code",
   "execution_count": null,
   "id": "9e7c0c89",
   "metadata": {},
   "outputs": [],
   "source": []
  },
  {
   "cell_type": "code",
   "execution_count": null,
   "id": "0c4f02b6",
   "metadata": {},
   "outputs": [],
   "source": []
  },
  {
   "cell_type": "code",
   "execution_count": null,
   "id": "3616cb80",
   "metadata": {},
   "outputs": [],
   "source": []
  },
  {
   "cell_type": "code",
   "execution_count": null,
   "id": "b11c2ac2",
   "metadata": {},
   "outputs": [],
   "source": []
  },
  {
   "cell_type": "code",
   "execution_count": null,
   "id": "6b42d41e",
   "metadata": {},
   "outputs": [],
   "source": []
  },
  {
   "cell_type": "code",
   "execution_count": null,
   "id": "889939dd",
   "metadata": {},
   "outputs": [],
   "source": []
  },
  {
   "cell_type": "code",
   "execution_count": null,
   "id": "0317a62e",
   "metadata": {},
   "outputs": [],
   "source": []
  },
  {
   "cell_type": "code",
   "execution_count": null,
   "id": "be4b7ea1",
   "metadata": {},
   "outputs": [],
   "source": []
  },
  {
   "cell_type": "code",
   "execution_count": null,
   "id": "3a8e654d",
   "metadata": {},
   "outputs": [],
   "source": []
  },
  {
   "cell_type": "code",
   "execution_count": null,
   "id": "26c0e937",
   "metadata": {},
   "outputs": [],
   "source": []
  },
  {
   "cell_type": "code",
   "execution_count": null,
   "id": "034e57b8",
   "metadata": {},
   "outputs": [],
   "source": []
  },
  {
   "cell_type": "code",
   "execution_count": null,
   "id": "a796255a",
   "metadata": {},
   "outputs": [],
   "source": []
  },
  {
   "cell_type": "code",
   "execution_count": null,
   "id": "596b210f",
   "metadata": {},
   "outputs": [],
   "source": []
  },
  {
   "cell_type": "code",
   "execution_count": null,
   "id": "ec1c260d",
   "metadata": {},
   "outputs": [],
   "source": []
  },
  {
   "cell_type": "code",
   "execution_count": null,
   "id": "f4aa0188",
   "metadata": {},
   "outputs": [],
   "source": []
  },
  {
   "cell_type": "code",
   "execution_count": null,
   "id": "b8951dbd",
   "metadata": {},
   "outputs": [],
   "source": []
  },
  {
   "cell_type": "code",
   "execution_count": null,
   "id": "64e4231b",
   "metadata": {},
   "outputs": [],
   "source": []
  },
  {
   "cell_type": "code",
   "execution_count": null,
   "id": "6fe8f0a1",
   "metadata": {},
   "outputs": [],
   "source": []
  },
  {
   "cell_type": "code",
   "execution_count": null,
   "id": "d317df92",
   "metadata": {},
   "outputs": [],
   "source": []
  },
  {
   "cell_type": "code",
   "execution_count": null,
   "id": "f8c58d77",
   "metadata": {},
   "outputs": [],
   "source": []
  },
  {
   "cell_type": "code",
   "execution_count": null,
   "id": "6ca9f786",
   "metadata": {},
   "outputs": [],
   "source": []
  },
  {
   "cell_type": "code",
   "execution_count": null,
   "id": "5a2fe2d6",
   "metadata": {},
   "outputs": [],
   "source": []
  }
 ],
 "metadata": {
  "kernelspec": {
   "display_name": "Python 3 (ipykernel)",
   "language": "python",
   "name": "python3"
  },
  "language_info": {
   "codemirror_mode": {
    "name": "ipython",
    "version": 3
   },
   "file_extension": ".py",
   "mimetype": "text/x-python",
   "name": "python",
   "nbconvert_exporter": "python",
   "pygments_lexer": "ipython3",
   "version": "3.9.13"
  }
 },
 "nbformat": 4,
 "nbformat_minor": 5
}
